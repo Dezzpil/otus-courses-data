{
 "cells": [
  {
   "cell_type": "markdown",
   "id": "7f2fd286-d242-4bdc-bc66-c43bea520594",
   "metadata": {},
   "source": [
    "# OTUS Courses EDA \n",
    "2025-02-27"
   ]
  },
  {
   "cell_type": "markdown",
   "id": "761fadd2-8373-4044-a903-34dfaa9b093e",
   "metadata": {},
   "source": [
    "* duration - продолжительность курса в месяц\n",
    "* audience - описание целевой аудитории\n",
    "* benefits - \"профит\" от курса\n",
    "* plan - программа курса\n",
    "* priceFull - стоимость\n",
    "* priceDisc - стоимость со скидкой (если есть)\n",
    "* pending - на курс пока нет набора"
   ]
  },
  {
   "cell_type": "code",
   "execution_count": 1,
   "id": "3ccf9525-7935-4173-9207-cdbec336ebb1",
   "metadata": {},
   "outputs": [],
   "source": [
    "import pandas as pd\n",
    "import seaborn as sns"
   ]
  },
  {
   "cell_type": "code",
   "execution_count": 4,
   "id": "2f8d1dc0-96a0-460e-b343-109c5d479626",
   "metadata": {},
   "outputs": [],
   "source": [
    "df = pd.read_csv('./2025-02-27.csv', delimiter=';', index_col='slug')"
   ]
  },
  {
   "cell_type": "code",
   "execution_count": 36,
   "id": "3266f000-085a-4cf7-b3c0-d54d5206368b",
   "metadata": {},
   "outputs": [
    {
     "data": {
      "text/html": [
       "<div>\n",
       "<style scoped>\n",
       "    .dataframe tbody tr th:only-of-type {\n",
       "        vertical-align: middle;\n",
       "    }\n",
       "\n",
       "    .dataframe tbody tr th {\n",
       "        vertical-align: top;\n",
       "    }\n",
       "\n",
       "    .dataframe thead th {\n",
       "        text-align: right;\n",
       "    }\n",
       "</style>\n",
       "<table border=\"1\" class=\"dataframe\">\n",
       "  <thead>\n",
       "    <tr style=\"text-align: right;\">\n",
       "      <th></th>\n",
       "      <th>title</th>\n",
       "      <th>promo</th>\n",
       "      <th>duration</th>\n",
       "      <th>presentType</th>\n",
       "      <th>audience</th>\n",
       "      <th>benefits</th>\n",
       "      <th>plan</th>\n",
       "      <th>priceFull</th>\n",
       "      <th>priceDisc</th>\n",
       "      <th>pending</th>\n",
       "    </tr>\n",
       "    <tr>\n",
       "      <th>slug</th>\n",
       "      <th></th>\n",
       "      <th></th>\n",
       "      <th></th>\n",
       "      <th></th>\n",
       "      <th></th>\n",
       "      <th></th>\n",
       "      <th></th>\n",
       "      <th></th>\n",
       "      <th></th>\n",
       "      <th></th>\n",
       "    </tr>\n",
       "  </thead>\n",
       "  <tbody>\n",
       "    <tr>\n",
       "      <th>clickhouse</th>\n",
       "      <td>ClickHouse для инженеров и архитекторов БД</td>\n",
       "      <td>Все о работе с ClickHouse: от установки и наст...</td>\n",
       "      <td>4</td>\n",
       "      <td>Онлайн</td>\n",
       "      <td>Программа разработана для тех, кто уже что-то...</td>\n",
       "      <td>В рамках курса мы рассмотрим установку ClickHo...</td>\n",
       "      <td>Знакомство с ClickHouse Знакомимся с основами ...</td>\n",
       "      <td>90000</td>\n",
       "      <td>81000</td>\n",
       "      <td>0</td>\n",
       "    </tr>\n",
       "    <tr>\n",
       "      <th>system_analyst</th>\n",
       "      <td>Системный аналитик. Advanced</td>\n",
       "      <td>Прокачайте свои навыки системного анализа до M...</td>\n",
       "      <td>6</td>\n",
       "      <td>Онлайн</td>\n",
       "      <td>Курс рассчитан на ИТ-аналитиков и системных а...</td>\n",
       "      <td>Программа курса позволяет системным аналитикам...</td>\n",
       "      <td>Системный анализ в структуре разработки ПО Мод...</td>\n",
       "      <td>131000</td>\n",
       "      <td>117900</td>\n",
       "      <td>0</td>\n",
       "    </tr>\n",
       "    <tr>\n",
       "      <th>integratorbitrix</th>\n",
       "      <td>Интегратор Битрикс24</td>\n",
       "      <td>Настройте Битрикс24 под задачи вашего бизнеса</td>\n",
       "      <td>4</td>\n",
       "      <td>Онлайн</td>\n",
       "      <td>NaN</td>\n",
       "      <td>Вы сможете настраивать Битрикс24 и подключать ...</td>\n",
       "      <td>Введение в профессию интегратор Битрикс Алгори...</td>\n",
       "      <td>69000</td>\n",
       "      <td>62100</td>\n",
       "      <td>0</td>\n",
       "    </tr>\n",
       "  </tbody>\n",
       "</table>\n",
       "</div>"
      ],
      "text/plain": [
       "                                                       title  \\\n",
       "slug                                                           \n",
       "clickhouse        ClickHouse для инженеров и архитекторов БД   \n",
       "system_analyst                  Системный аналитик. Advanced   \n",
       "integratorbitrix                        Интегратор Битрикс24   \n",
       "\n",
       "                                                              promo  duration  \\\n",
       "slug                                                                            \n",
       "clickhouse        Все о работе с ClickHouse: от установки и наст...         4   \n",
       "system_analyst    Прокачайте свои навыки системного анализа до M...         6   \n",
       "integratorbitrix      Настройте Битрикс24 под задачи вашего бизнеса         4   \n",
       "\n",
       "                 presentType  \\\n",
       "slug                           \n",
       "clickhouse            Онлайн   \n",
       "system_analyst        Онлайн   \n",
       "integratorbitrix      Онлайн   \n",
       "\n",
       "                                                           audience  \\\n",
       "slug                                                                  \n",
       "clickhouse         Программа разработана для тех, кто уже что-то...   \n",
       "system_analyst     Курс рассчитан на ИТ-аналитиков и системных а...   \n",
       "integratorbitrix                                                NaN   \n",
       "\n",
       "                                                           benefits  \\\n",
       "slug                                                                  \n",
       "clickhouse        В рамках курса мы рассмотрим установку ClickHo...   \n",
       "system_analyst    Программа курса позволяет системным аналитикам...   \n",
       "integratorbitrix  Вы сможете настраивать Битрикс24 и подключать ...   \n",
       "\n",
       "                                                               plan  \\\n",
       "slug                                                                  \n",
       "clickhouse        Знакомство с ClickHouse Знакомимся с основами ...   \n",
       "system_analyst    Системный анализ в структуре разработки ПО Мод...   \n",
       "integratorbitrix  Введение в профессию интегратор Битрикс Алгори...   \n",
       "\n",
       "                  priceFull  priceDisc  pending  \n",
       "slug                                             \n",
       "clickhouse            90000      81000        0  \n",
       "system_analyst       131000     117900        0  \n",
       "integratorbitrix      69000      62100        0  "
      ]
     },
     "execution_count": 36,
     "metadata": {},
     "output_type": "execute_result"
    }
   ],
   "source": [
    "df.sample(n=3)"
   ]
  },
  {
   "cell_type": "code",
   "execution_count": 9,
   "id": "c45c4215-c0ae-4c50-a8cd-67e314ef7a78",
   "metadata": {},
   "outputs": [
    {
     "name": "stdout",
     "output_type": "stream",
     "text": [
      "<class 'pandas.core.frame.DataFrame'>\n",
      "Index: 202 entries, atomport to llm-driven-development\n",
      "Data columns (total 10 columns):\n",
      " #   Column       Non-Null Count  Dtype \n",
      "---  ------       --------------  ----- \n",
      " 0   title        202 non-null    object\n",
      " 1   promo        202 non-null    object\n",
      " 2   duration     202 non-null    int64 \n",
      " 3   presentType  202 non-null    object\n",
      " 4   audience     142 non-null    object\n",
      " 5   benefits     189 non-null    object\n",
      " 6   plan         200 non-null    object\n",
      " 7   priceFull    202 non-null    int64 \n",
      " 8   priceDisc    202 non-null    int64 \n",
      " 9   pending      202 non-null    int64 \n",
      "dtypes: int64(4), object(6)\n",
      "memory usage: 17.4+ KB\n"
     ]
    }
   ],
   "source": [
    "df.info()"
   ]
  },
  {
   "cell_type": "markdown",
   "id": "04fa2a3c-bc33-4dcf-a67f-18ef710621de",
   "metadata": {},
   "source": [
    "Набор не полон: в набор вошло 202 курса (это не все, а только с фильтром \"Тип обучения: курсы\"), список курсов был собран 24 февраля.\n",
    "\n",
    "Пропуски есть в текстовых полях: `audience`, `benefits`, `plan`"
   ]
  },
  {
   "cell_type": "markdown",
   "id": "28f44a89-ebd6-4f9c-a183-5dbfdac1cdc7",
   "metadata": {},
   "source": [
    "## Активные курсы"
   ]
  },
  {
   "cell_type": "code",
   "execution_count": 27,
   "id": "62f9797a-af04-48c5-bbf7-9c596b92452c",
   "metadata": {},
   "outputs": [
    {
     "data": {
      "text/plain": [
       "pending\n",
       "0    138\n",
       "1     64\n",
       "Name: count, dtype: int64"
      ]
     },
     "execution_count": 27,
     "metadata": {},
     "output_type": "execute_result"
    }
   ],
   "source": [
    "df['pending'].value_counts()"
   ]
  },
  {
   "cell_type": "markdown",
   "id": "9ef9d59d-175d-4828-8f84-da5be189b6ba",
   "metadata": {},
   "source": [
    "Будем рассматривать только активные курсы"
   ]
  },
  {
   "cell_type": "code",
   "execution_count": 28,
   "id": "4282827c-8d78-4eea-b0b1-1b1665369a22",
   "metadata": {},
   "outputs": [],
   "source": [
    "df_active = df[df['pending'] == 0]"
   ]
  },
  {
   "cell_type": "markdown",
   "id": "8a2faa9e-f718-4160-9645-6ee6cb94d52c",
   "metadata": {},
   "source": [
    "## Длительность курсов"
   ]
  },
  {
   "cell_type": "code",
   "execution_count": 48,
   "id": "0a491f25-ffed-4b4e-a8c1-e7426bb5e6e7",
   "metadata": {},
   "outputs": [
    {
     "data": {
      "text/plain": [
       "<Axes: xlabel='duration', ylabel='Count'>"
      ]
     },
     "execution_count": 48,
     "metadata": {},
     "output_type": "execute_result"
    },
    {
     "data": {
      "image/png": "[encoded data removed]",
      "text/plain": [
       "<Figure size 640x480 with 1 Axes>"
      ]
     },
     "metadata": {},
     "output_type": "display_data"
    }
   ],
   "source": [
    "sns.histplot(df_active, x='duration', discrete=True)"
   ]
  },
  {
   "cell_type": "markdown",
   "id": "fae207a4-7f5f-41f5-b6f0-b11638e17a79",
   "metadata": {},
   "source": [
    "Выглядит так, как будто признак распределен нормально! \n",
    "\n",
    "*kde выглядит странно для дискретной величины ...*"
   ]
  },
  {
   "cell_type": "code",
   "execution_count": 30,
   "id": "86568c66-9137-409e-95cc-475adb358b4b",
   "metadata": {},
   "outputs": [
    {
     "data": {
      "text/html": [
       "<div>\n",
       "<style scoped>\n",
       "    .dataframe tbody tr th:only-of-type {\n",
       "        vertical-align: middle;\n",
       "    }\n",
       "\n",
       "    .dataframe tbody tr th {\n",
       "        vertical-align: top;\n",
       "    }\n",
       "\n",
       "    .dataframe thead th {\n",
       "        text-align: right;\n",
       "    }\n",
       "</style>\n",
       "<table border=\"1\" class=\"dataframe\">\n",
       "  <thead>\n",
       "    <tr style=\"text-align: right;\">\n",
       "      <th></th>\n",
       "      <th>title</th>\n",
       "      <th>promo</th>\n",
       "      <th>duration</th>\n",
       "      <th>presentType</th>\n",
       "      <th>audience</th>\n",
       "      <th>benefits</th>\n",
       "      <th>plan</th>\n",
       "      <th>priceFull</th>\n",
       "      <th>priceDisc</th>\n",
       "      <th>pending</th>\n",
       "    </tr>\n",
       "    <tr>\n",
       "      <th>slug</th>\n",
       "      <th></th>\n",
       "      <th></th>\n",
       "      <th></th>\n",
       "      <th></th>\n",
       "      <th></th>\n",
       "      <th></th>\n",
       "      <th></th>\n",
       "      <th></th>\n",
       "      <th></th>\n",
       "      <th></th>\n",
       "    </tr>\n",
       "  </thead>\n",
       "  <tbody>\n",
       "    <tr>\n",
       "      <th>setevoy-inzhener</th>\n",
       "      <td>Network Engineer. Professional</td>\n",
       "      <td>Освойте актуальные протоколы маршрутизации. И ...</td>\n",
       "      <td>7</td>\n",
       "      <td>Онлайн</td>\n",
       "      <td>Специалистов по маршрутизации и коммутации , ...</td>\n",
       "      <td>Вы сможете настраивать и управлять сетями пред...</td>\n",
       "      <td>Основы коммутации и маршрутизации (CCNA SRWE) ...</td>\n",
       "      <td>89000</td>\n",
       "      <td>80100</td>\n",
       "      <td>0</td>\n",
       "    </tr>\n",
       "    <tr>\n",
       "      <th>system_analyst_basic</th>\n",
       "      <td>Системный аналитик. Basic</td>\n",
       "      <td>Погрузитесь в процесс разработки ПО: учитывайт...</td>\n",
       "      <td>6</td>\n",
       "      <td>Онлайн</td>\n",
       "      <td>NaN</td>\n",
       "      <td>Влияйте на разработку ПО с позиций системного ...</td>\n",
       "      <td>Введение в разработку ПО Модуль позволяет синх...</td>\n",
       "      <td>121000</td>\n",
       "      <td>108900</td>\n",
       "      <td>0</td>\n",
       "    </tr>\n",
       "    <tr>\n",
       "      <th>subd</th>\n",
       "      <td>Базы данных</td>\n",
       "      <td>Освойте все необходимые навыки для профессиона...</td>\n",
       "      <td>6</td>\n",
       "      <td>Онлайн</td>\n",
       "      <td>DBA, решающие задачи миграции с проприетарных...</td>\n",
       "      <td>Цель курса — научить слушателя эффективно рабо...</td>\n",
       "      <td>Сущности и связи В данном модуле рассмотрим пр...</td>\n",
       "      <td>103000</td>\n",
       "      <td>92700</td>\n",
       "      <td>0</td>\n",
       "    </tr>\n",
       "  </tbody>\n",
       "</table>\n",
       "</div>"
      ],
      "text/plain": [
       "                                               title  \\\n",
       "slug                                                   \n",
       "setevoy-inzhener      Network Engineer. Professional   \n",
       "system_analyst_basic       Системный аналитик. Basic   \n",
       "subd                                     Базы данных   \n",
       "\n",
       "                                                                  promo  \\\n",
       "slug                                                                      \n",
       "setevoy-inzhener      Освойте актуальные протоколы маршрутизации. И ...   \n",
       "system_analyst_basic  Погрузитесь в процесс разработки ПО: учитывайт...   \n",
       "subd                  Освойте все необходимые навыки для профессиона...   \n",
       "\n",
       "                      duration presentType  \\\n",
       "slug                                         \n",
       "setevoy-inzhener             7      Онлайн   \n",
       "system_analyst_basic         6      Онлайн   \n",
       "subd                         6      Онлайн   \n",
       "\n",
       "                                                               audience  \\\n",
       "slug                                                                      \n",
       "setevoy-inzhener       Специалистов по маршрутизации и коммутации , ...   \n",
       "system_analyst_basic                                                NaN   \n",
       "subd                   DBA, решающие задачи миграции с проприетарных...   \n",
       "\n",
       "                                                               benefits  \\\n",
       "slug                                                                      \n",
       "setevoy-inzhener      Вы сможете настраивать и управлять сетями пред...   \n",
       "system_analyst_basic  Влияйте на разработку ПО с позиций системного ...   \n",
       "subd                  Цель курса — научить слушателя эффективно рабо...   \n",
       "\n",
       "                                                                   plan  \\\n",
       "slug                                                                      \n",
       "setevoy-inzhener      Основы коммутации и маршрутизации (CCNA SRWE) ...   \n",
       "system_analyst_basic  Введение в разработку ПО Модуль позволяет синх...   \n",
       "subd                  Сущности и связи В данном модуле рассмотрим пр...   \n",
       "\n",
       "                      priceFull  priceDisc  pending  \n",
       "slug                                                 \n",
       "setevoy-inzhener          89000      80100        0  \n",
       "system_analyst_basic     121000     108900        0  \n",
       "subd                     103000      92700        0  "
      ]
     },
     "execution_count": 30,
     "metadata": {},
     "output_type": "execute_result"
    }
   ],
   "source": [
    "# топ-3 самых длительных курсов\n",
    "df_active.sort_values(by='duration', ascending=False)[0:3]"
   ]
  },
  {
   "cell_type": "code",
   "execution_count": 34,
   "id": "30a191cb-79f6-4d64-be91-b2d09867997d",
   "metadata": {},
   "outputs": [
    {
     "data": {
      "text/html": [
       "<div>\n",
       "<style scoped>\n",
       "    .dataframe tbody tr th:only-of-type {\n",
       "        vertical-align: middle;\n",
       "    }\n",
       "\n",
       "    .dataframe tbody tr th {\n",
       "        vertical-align: top;\n",
       "    }\n",
       "\n",
       "    .dataframe thead th {\n",
       "        text-align: right;\n",
       "    }\n",
       "</style>\n",
       "<table border=\"1\" class=\"dataframe\">\n",
       "  <thead>\n",
       "    <tr style=\"text-align: right;\">\n",
       "      <th></th>\n",
       "      <th>title</th>\n",
       "      <th>promo</th>\n",
       "      <th>duration</th>\n",
       "      <th>presentType</th>\n",
       "      <th>audience</th>\n",
       "      <th>benefits</th>\n",
       "      <th>plan</th>\n",
       "      <th>priceFull</th>\n",
       "      <th>priceDisc</th>\n",
       "      <th>pending</th>\n",
       "    </tr>\n",
       "    <tr>\n",
       "      <th>slug</th>\n",
       "      <th></th>\n",
       "      <th></th>\n",
       "      <th></th>\n",
       "      <th></th>\n",
       "      <th></th>\n",
       "      <th></th>\n",
       "      <th></th>\n",
       "      <th></th>\n",
       "      <th></th>\n",
       "      <th></th>\n",
       "    </tr>\n",
       "  </thead>\n",
       "  <tbody>\n",
       "    <tr>\n",
       "      <th>atomport</th>\n",
       "      <td>Атом.Порт – система управления конфигурациями</td>\n",
       "      <td>Курс о том, как быстро и безопасно мигрировать...</td>\n",
       "      <td>2</td>\n",
       "      <td>Онлайн</td>\n",
       "      <td>Бесплатный курс для всех желающих IT-специалис...</td>\n",
       "      <td>Курс поможет вам успешно справиться с массовым...</td>\n",
       "      <td>Атом. Порт Вы разберетесь с особенностями сист...</td>\n",
       "      <td>0</td>\n",
       "      <td>0</td>\n",
       "      <td>0</td>\n",
       "    </tr>\n",
       "    <tr>\n",
       "      <th>archimate</th>\n",
       "      <td>Archimate</td>\n",
       "      <td>Думайте стратегически, визуализируйте с помощь...</td>\n",
       "      <td>2</td>\n",
       "      <td>Онлайн</td>\n",
       "      <td>Для архитекторов. Научитесь визуализировать в...</td>\n",
       "      <td>Что даст вам этот курс Вы научитесь: мыслить с...</td>\n",
       "      <td>ArchiMate Изучим язык моделирования ArchiMate....</td>\n",
       "      <td>67000</td>\n",
       "      <td>60300</td>\n",
       "      <td>0</td>\n",
       "    </tr>\n",
       "    <tr>\n",
       "      <th>loadqa</th>\n",
       "      <td>Нагрузочное тестирование</td>\n",
       "      <td>Составляйте методику, разрабатывайте скрипты, ...</td>\n",
       "      <td>3</td>\n",
       "      <td>Онлайн</td>\n",
       "      <td>Для специалистов по ручному и автоматизирован...</td>\n",
       "      <td>Что даст вам этот курс Вы научитесь: писать ск...</td>\n",
       "      <td>Введение в нагрузочное тестирование (НТ) Вводн...</td>\n",
       "      <td>122000</td>\n",
       "      <td>109800</td>\n",
       "      <td>0</td>\n",
       "    </tr>\n",
       "  </tbody>\n",
       "</table>\n",
       "</div>"
      ],
      "text/plain": [
       "                                                   title  \\\n",
       "slug                                                       \n",
       "atomport   Атом.Порт – система управления конфигурациями   \n",
       "archimate                                      Archimate   \n",
       "loadqa                          Нагрузочное тестирование   \n",
       "\n",
       "                                                       promo  duration  \\\n",
       "slug                                                                     \n",
       "atomport   Курс о том, как быстро и безопасно мигрировать...         2   \n",
       "archimate  Думайте стратегически, визуализируйте с помощь...         2   \n",
       "loadqa     Составляйте методику, разрабатывайте скрипты, ...         3   \n",
       "\n",
       "          presentType                                           audience  \\\n",
       "slug                                                                       \n",
       "atomport       Онлайн  Бесплатный курс для всех желающих IT-специалис...   \n",
       "archimate      Онлайн   Для архитекторов. Научитесь визуализировать в...   \n",
       "loadqa         Онлайн   Для специалистов по ручному и автоматизирован...   \n",
       "\n",
       "                                                    benefits  \\\n",
       "slug                                                           \n",
       "atomport   Курс поможет вам успешно справиться с массовым...   \n",
       "archimate  Что даст вам этот курс Вы научитесь: мыслить с...   \n",
       "loadqa     Что даст вам этот курс Вы научитесь: писать ск...   \n",
       "\n",
       "                                                        plan  priceFull  \\\n",
       "slug                                                                      \n",
       "atomport   Атом. Порт Вы разберетесь с особенностями сист...          0   \n",
       "archimate  ArchiMate Изучим язык моделирования ArchiMate....      67000   \n",
       "loadqa     Введение в нагрузочное тестирование (НТ) Вводн...     122000   \n",
       "\n",
       "           priceDisc  pending  \n",
       "slug                           \n",
       "atomport           0        0  \n",
       "archimate      60300        0  \n",
       "loadqa        109800        0  "
      ]
     },
     "execution_count": 34,
     "metadata": {},
     "output_type": "execute_result"
    }
   ],
   "source": [
    "# топ-3 самых коротких курсов\n",
    "df_active.sort_values(by='duration', ascending=True)[0:3]"
   ]
  },
  {
   "cell_type": "markdown",
   "id": "1953d77a-b38b-4d32-bbd3-a0e66ed7af76",
   "metadata": {},
   "source": [
    "## Стоимость курсов"
   ]
  },
  {
   "cell_type": "code",
   "execution_count": 55,
   "id": "c4feccd4-6fd6-4fb3-982d-091644340771",
   "metadata": {},
   "outputs": [
    {
     "data": {
      "text/plain": [
       "<Axes: xlabel='priceFull', ylabel='Count'>"
      ]
     },
     "execution_count": 55,
     "metadata": {},
     "output_type": "execute_result"
    },
    {
     "data": {
      "image/png": "[encoded data removed]",
      "text/plain": [
       "<Figure size 640x480 with 1 Axes>"
      ]
     },
     "metadata": {},
     "output_type": "display_data"
    }
   ],
   "source": [
    "sns.histplot(df_active, x='priceFull')"
   ]
  },
  {
   "cell_type": "markdown",
   "id": "97dd3ad0-cf2c-40e7-8da7-fd6f06fe45f3",
   "metadata": {},
   "source": [
    "Встречаются бесплатные курсы"
   ]
  },
  {
   "cell_type": "code",
   "execution_count": 50,
   "id": "92a1f673-8eb1-4532-a20b-1a82fbd9acbd",
   "metadata": {},
   "outputs": [
    {
     "data": {
      "text/plain": [
       "4"
      ]
     },
     "execution_count": 50,
     "metadata": {},
     "output_type": "execute_result"
    }
   ],
   "source": [
    "df_active[df_active['priceFull'] == 0].shape[0]"
   ]
  },
  {
   "cell_type": "code",
   "execution_count": 52,
   "id": "611a8ae9-04b4-48b3-98cc-ee5b36a41e7b",
   "metadata": {},
   "outputs": [
    {
     "data": {
      "text/html": [
       "<div>\n",
       "<style scoped>\n",
       "    .dataframe tbody tr th:only-of-type {\n",
       "        vertical-align: middle;\n",
       "    }\n",
       "\n",
       "    .dataframe tbody tr th {\n",
       "        vertical-align: top;\n",
       "    }\n",
       "\n",
       "    .dataframe thead th {\n",
       "        text-align: right;\n",
       "    }\n",
       "</style>\n",
       "<table border=\"1\" class=\"dataframe\">\n",
       "  <thead>\n",
       "    <tr style=\"text-align: right;\">\n",
       "      <th></th>\n",
       "      <th>title</th>\n",
       "      <th>promo</th>\n",
       "      <th>duration</th>\n",
       "      <th>presentType</th>\n",
       "      <th>audience</th>\n",
       "      <th>benefits</th>\n",
       "      <th>plan</th>\n",
       "      <th>priceFull</th>\n",
       "      <th>priceDisc</th>\n",
       "      <th>pending</th>\n",
       "    </tr>\n",
       "    <tr>\n",
       "      <th>slug</th>\n",
       "      <th></th>\n",
       "      <th></th>\n",
       "      <th></th>\n",
       "      <th></th>\n",
       "      <th></th>\n",
       "      <th></th>\n",
       "      <th></th>\n",
       "      <th></th>\n",
       "      <th></th>\n",
       "      <th></th>\n",
       "    </tr>\n",
       "  </thead>\n",
       "  <tbody>\n",
       "    <tr>\n",
       "      <th>atomport</th>\n",
       "      <td>Атом.Порт – система управления конфигурациями</td>\n",
       "      <td>Курс о том, как быстро и безопасно мигрировать...</td>\n",
       "      <td>2</td>\n",
       "      <td>Онлайн</td>\n",
       "      <td>Бесплатный курс для всех желающих IT-специалис...</td>\n",
       "      <td>Курс поможет вам успешно справиться с массовым...</td>\n",
       "      <td>Атом. Порт Вы разберетесь с особенностями сист...</td>\n",
       "      <td>0</td>\n",
       "      <td>0</td>\n",
       "      <td>0</td>\n",
       "    </tr>\n",
       "    <tr>\n",
       "      <th>otuskids_ai</th>\n",
       "      <td>Искусственный интеллект для подростков</td>\n",
       "      <td>Оставьте заявку и получите бесплатное индивиду...</td>\n",
       "      <td>5</td>\n",
       "      <td>Онлайн</td>\n",
       "      <td>NaN</td>\n",
       "      <td>NaN</td>\n",
       "      <td>Введение в искусственный интеллект и нейросети...</td>\n",
       "      <td>0</td>\n",
       "      <td>0</td>\n",
       "      <td>0</td>\n",
       "    </tr>\n",
       "    <tr>\n",
       "      <th>otuskids_python</th>\n",
       "      <td>Python-разработчик для подростков</td>\n",
       "      <td>Оставьте заявку и получите бесплатное индивиду...</td>\n",
       "      <td>5</td>\n",
       "      <td>Онлайн</td>\n",
       "      <td>NaN</td>\n",
       "      <td>Заключительный месяц курса посвящен проектной ...</td>\n",
       "      <td>Основы синтаксиса. Основные ключевые слова и к...</td>\n",
       "      <td>0</td>\n",
       "      <td>0</td>\n",
       "      <td>0</td>\n",
       "    </tr>\n",
       "    <tr>\n",
       "      <th>otuskids_literacy</th>\n",
       "      <td>Компьютерная грамотность и Scratch</td>\n",
       "      <td>Запишите вашего ребенка на бесплатный открытый...</td>\n",
       "      <td>3</td>\n",
       "      <td>Онлайн</td>\n",
       "      <td>NaN</td>\n",
       "      <td>NaN</td>\n",
       "      <td>Основы компьютера и работа в интернете В этом ...</td>\n",
       "      <td>0</td>\n",
       "      <td>0</td>\n",
       "      <td>0</td>\n",
       "    </tr>\n",
       "  </tbody>\n",
       "</table>\n",
       "</div>"
      ],
      "text/plain": [
       "                                                           title  \\\n",
       "slug                                                               \n",
       "atomport           Атом.Порт – система управления конфигурациями   \n",
       "otuskids_ai               Искусственный интеллект для подростков   \n",
       "otuskids_python                Python-разработчик для подростков   \n",
       "otuskids_literacy             Компьютерная грамотность и Scratch   \n",
       "\n",
       "                                                               promo  \\\n",
       "slug                                                                   \n",
       "atomport           Курс о том, как быстро и безопасно мигрировать...   \n",
       "otuskids_ai        Оставьте заявку и получите бесплатное индивиду...   \n",
       "otuskids_python    Оставьте заявку и получите бесплатное индивиду...   \n",
       "otuskids_literacy  Запишите вашего ребенка на бесплатный открытый...   \n",
       "\n",
       "                   duration presentType  \\\n",
       "slug                                      \n",
       "atomport                  2      Онлайн   \n",
       "otuskids_ai               5      Онлайн   \n",
       "otuskids_python           5      Онлайн   \n",
       "otuskids_literacy         3      Онлайн   \n",
       "\n",
       "                                                            audience  \\\n",
       "slug                                                                   \n",
       "atomport           Бесплатный курс для всех желающих IT-специалис...   \n",
       "otuskids_ai                                                      NaN   \n",
       "otuskids_python                                                  NaN   \n",
       "otuskids_literacy                                                NaN   \n",
       "\n",
       "                                                            benefits  \\\n",
       "slug                                                                   \n",
       "atomport           Курс поможет вам успешно справиться с массовым...   \n",
       "otuskids_ai                                                      NaN   \n",
       "otuskids_python    Заключительный месяц курса посвящен проектной ...   \n",
       "otuskids_literacy                                                NaN   \n",
       "\n",
       "                                                                plan  \\\n",
       "slug                                                                   \n",
       "atomport           Атом. Порт Вы разберетесь с особенностями сист...   \n",
       "otuskids_ai        Введение в искусственный интеллект и нейросети...   \n",
       "otuskids_python    Основы синтаксиса. Основные ключевые слова и к...   \n",
       "otuskids_literacy  Основы компьютера и работа в интернете В этом ...   \n",
       "\n",
       "                   priceFull  priceDisc  pending  \n",
       "slug                                              \n",
       "atomport                   0          0        0  \n",
       "otuskids_ai                0          0        0  \n",
       "otuskids_python            0          0        0  \n",
       "otuskids_literacy          0          0        0  "
      ]
     },
     "execution_count": 52,
     "metadata": {},
     "output_type": "execute_result"
    }
   ],
   "source": [
    "df_active[df_active['priceFull'] == 0]"
   ]
  },
  {
   "cell_type": "markdown",
   "id": "680d92fc-b1f5-4d6b-a632-991429d1abd5",
   "metadata": {},
   "source": [
    "Оставим только платные курсы"
   ]
  },
  {
   "cell_type": "code",
   "execution_count": 54,
   "id": "6e5a8270-36b1-496a-9276-5ca636e2e3dc",
   "metadata": {},
   "outputs": [],
   "source": [
    "df_sale = df_active[df_active['priceFull'] != 0]"
   ]
  },
  {
   "cell_type": "code",
   "execution_count": 58,
   "id": "6ee4f863-46fb-4c30-b9f2-fcf55f005492",
   "metadata": {},
   "outputs": [
    {
     "data": {
      "text/plain": [
       "<Axes: xlabel='priceFull', ylabel='Count'>"
      ]
     },
     "execution_count": 58,
     "metadata": {},
     "output_type": "execute_result"
    },
    {
     "data": {
      "image/png": "[encoded data removed]",
      "text/plain": [
       "<Figure size 640x480 with 1 Axes>"
      ]
     },
     "metadata": {},
     "output_type": "display_data"
    }
   ],
   "source": [
    "sns.histplot(df_sale, x='priceFull', kde=True, bins=20)"
   ]
  },
  {
   "cell_type": "code",
   "execution_count": 59,
   "id": "2a986803-bb41-43e9-9c8f-a0a3375f5bc9",
   "metadata": {},
   "outputs": [
    {
     "data": {
      "text/html": [
       "<div>\n",
       "<style scoped>\n",
       "    .dataframe tbody tr th:only-of-type {\n",
       "        vertical-align: middle;\n",
       "    }\n",
       "\n",
       "    .dataframe tbody tr th {\n",
       "        vertical-align: top;\n",
       "    }\n",
       "\n",
       "    .dataframe thead th {\n",
       "        text-align: right;\n",
       "    }\n",
       "</style>\n",
       "<table border=\"1\" class=\"dataframe\">\n",
       "  <thead>\n",
       "    <tr style=\"text-align: right;\">\n",
       "      <th></th>\n",
       "      <th>title</th>\n",
       "      <th>promo</th>\n",
       "      <th>duration</th>\n",
       "      <th>presentType</th>\n",
       "      <th>audience</th>\n",
       "      <th>benefits</th>\n",
       "      <th>plan</th>\n",
       "      <th>priceFull</th>\n",
       "      <th>priceDisc</th>\n",
       "      <th>pending</th>\n",
       "    </tr>\n",
       "    <tr>\n",
       "      <th>slug</th>\n",
       "      <th></th>\n",
       "      <th></th>\n",
       "      <th></th>\n",
       "      <th></th>\n",
       "      <th></th>\n",
       "      <th></th>\n",
       "      <th></th>\n",
       "      <th></th>\n",
       "      <th></th>\n",
       "      <th></th>\n",
       "    </tr>\n",
       "  </thead>\n",
       "  <tbody>\n",
       "    <tr>\n",
       "      <th>-sql</th>\n",
       "      <td>SQL для разработчиков и аналитиков</td>\n",
       "      <td>Узнайте как сделать связку разработчик+аналити...</td>\n",
       "      <td>3</td>\n",
       "      <td>Онлайн</td>\n",
       "      <td>Для разработчиков , которые уже знакомы с как...</td>\n",
       "      <td>NaN</td>\n",
       "      <td>Погружение в SQL Основы и первые команды Вы по...</td>\n",
       "      <td>50000</td>\n",
       "      <td>0</td>\n",
       "      <td>0</td>\n",
       "    </tr>\n",
       "    <tr>\n",
       "      <th>django</th>\n",
       "      <td>Django-разработчик</td>\n",
       "      <td>Создание сложных web-приложений на Django для ...</td>\n",
       "      <td>5</td>\n",
       "      <td>Онлайн</td>\n",
       "      <td>NaN</td>\n",
       "      <td>Вы сможете применять фреймворк Django в бэкенд...</td>\n",
       "      <td>Основы Python и модульного тестирования Цель в...</td>\n",
       "      <td>52500</td>\n",
       "      <td>0</td>\n",
       "      <td>0</td>\n",
       "    </tr>\n",
       "    <tr>\n",
       "      <th>linux-kernel</th>\n",
       "      <td>Разработка ядра Linux</td>\n",
       "      <td>Понимание ядра Linux: от архитектуры до разраб...</td>\n",
       "      <td>3</td>\n",
       "      <td>Онлайн</td>\n",
       "      <td>Для кого этот курс: Системные администраторов ...</td>\n",
       "      <td>Что даст вам этот курс Основы разработки ядра:...</td>\n",
       "      <td>Введение в разработку ядра Linux В этом модуле...</td>\n",
       "      <td>55000</td>\n",
       "      <td>0</td>\n",
       "      <td>0</td>\n",
       "    </tr>\n",
       "  </tbody>\n",
       "</table>\n",
       "</div>"
      ],
      "text/plain": [
       "                                           title  \\\n",
       "slug                                               \n",
       "-sql          SQL для разработчиков и аналитиков   \n",
       "django                        Django-разработчик   \n",
       "linux-kernel               Разработка ядра Linux   \n",
       "\n",
       "                                                          promo  duration  \\\n",
       "slug                                                                        \n",
       "-sql          Узнайте как сделать связку разработчик+аналити...         3   \n",
       "django        Создание сложных web-приложений на Django для ...         5   \n",
       "linux-kernel  Понимание ядра Linux: от архитектуры до разраб...         3   \n",
       "\n",
       "             presentType                                           audience  \\\n",
       "slug                                                                          \n",
       "-sql              Онлайн   Для разработчиков , которые уже знакомы с как...   \n",
       "django            Онлайн                                                NaN   \n",
       "linux-kernel      Онлайн  Для кого этот курс: Системные администраторов ...   \n",
       "\n",
       "                                                       benefits  \\\n",
       "slug                                                              \n",
       "-sql                                                        NaN   \n",
       "django        Вы сможете применять фреймворк Django в бэкенд...   \n",
       "linux-kernel  Что даст вам этот курс Основы разработки ядра:...   \n",
       "\n",
       "                                                           plan  priceFull  \\\n",
       "slug                                                                         \n",
       "-sql          Погружение в SQL Основы и первые команды Вы по...      50000   \n",
       "django        Основы Python и модульного тестирования Цель в...      52500   \n",
       "linux-kernel  Введение в разработку ядра Linux В этом модуле...      55000   \n",
       "\n",
       "              priceDisc  pending  \n",
       "slug                              \n",
       "-sql                  0        0  \n",
       "django                0        0  \n",
       "linux-kernel          0        0  "
      ]
     },
     "execution_count": 59,
     "metadata": {},
     "output_type": "execute_result"
    }
   ],
   "source": [
    "# топ-3 самых дешевых курсов\n",
    "df_sale.sort_values(by='priceFull', ascending=True)[0:3]"
   ]
  },
  {
   "cell_type": "code",
   "execution_count": 60,
   "id": "36cdba58-75f4-469b-98a2-6c03654155af",
   "metadata": {},
   "outputs": [
    {
     "data": {
      "text/html": [
       "<div>\n",
       "<style scoped>\n",
       "    .dataframe tbody tr th:only-of-type {\n",
       "        vertical-align: middle;\n",
       "    }\n",
       "\n",
       "    .dataframe tbody tr th {\n",
       "        vertical-align: top;\n",
       "    }\n",
       "\n",
       "    .dataframe thead th {\n",
       "        text-align: right;\n",
       "    }\n",
       "</style>\n",
       "<table border=\"1\" class=\"dataframe\">\n",
       "  <thead>\n",
       "    <tr style=\"text-align: right;\">\n",
       "      <th></th>\n",
       "      <th>title</th>\n",
       "      <th>promo</th>\n",
       "      <th>duration</th>\n",
       "      <th>presentType</th>\n",
       "      <th>audience</th>\n",
       "      <th>benefits</th>\n",
       "      <th>plan</th>\n",
       "      <th>priceFull</th>\n",
       "      <th>priceDisc</th>\n",
       "      <th>pending</th>\n",
       "    </tr>\n",
       "    <tr>\n",
       "      <th>slug</th>\n",
       "      <th></th>\n",
       "      <th></th>\n",
       "      <th></th>\n",
       "      <th></th>\n",
       "      <th></th>\n",
       "      <th></th>\n",
       "      <th></th>\n",
       "      <th></th>\n",
       "      <th></th>\n",
       "      <th></th>\n",
       "    </tr>\n",
       "  </thead>\n",
       "  <tbody>\n",
       "    <tr>\n",
       "      <th>microservice-architecture</th>\n",
       "      <td>Microservice Architecture</td>\n",
       "      <td>Научитесь работе с лучшими инструментами по ра...</td>\n",
       "      <td>4</td>\n",
       "      <td>Онлайн</td>\n",
       "      <td>NaN</td>\n",
       "      <td>После обучения выпускники на профессиональном ...</td>\n",
       "      <td>Базовые паттерны микросервисных архитектур В э...</td>\n",
       "      <td>162000</td>\n",
       "      <td>145800</td>\n",
       "      <td>0</td>\n",
       "    </tr>\n",
       "    <tr>\n",
       "      <th>java-professional</th>\n",
       "      <td>Java Developer. Professional</td>\n",
       "      <td>Освойте создание современных Java-приложений</td>\n",
       "      <td>6</td>\n",
       "      <td>Онлайн</td>\n",
       "      <td>NaN</td>\n",
       "      <td>Знание актуального стека технологий, 96 часов ...</td>\n",
       "      <td>Язык и платформа Java В этом модуле изучаются ...</td>\n",
       "      <td>159000</td>\n",
       "      <td>143100</td>\n",
       "      <td>0</td>\n",
       "    </tr>\n",
       "    <tr>\n",
       "      <th>teamlead2-0</th>\n",
       "      <td>Team Lead</td>\n",
       "      <td>Прокачайте менеджерские навыки, освойте продви...</td>\n",
       "      <td>5</td>\n",
       "      <td>Онлайн</td>\n",
       "      <td>Для начинающих тимлидов. Избавьтесь от «синдр...</td>\n",
       "      <td>Курс «Team Lead» поможет начинающим руководите...</td>\n",
       "      <td>Общие знания Обсуждение организационных вопрос...</td>\n",
       "      <td>153000</td>\n",
       "      <td>137700</td>\n",
       "      <td>0</td>\n",
       "    </tr>\n",
       "  </tbody>\n",
       "</table>\n",
       "</div>"
      ],
      "text/plain": [
       "                                                  title  \\\n",
       "slug                                                      \n",
       "microservice-architecture     Microservice Architecture   \n",
       "java-professional          Java Developer. Professional   \n",
       "teamlead2-0                                   Team Lead   \n",
       "\n",
       "                                                                       promo  \\\n",
       "slug                                                                           \n",
       "microservice-architecture  Научитесь работе с лучшими инструментами по ра...   \n",
       "java-professional               Освойте создание современных Java-приложений   \n",
       "teamlead2-0                Прокачайте менеджерские навыки, освойте продви...   \n",
       "\n",
       "                           duration presentType  \\\n",
       "slug                                              \n",
       "microservice-architecture         4      Онлайн   \n",
       "java-professional                 6      Онлайн   \n",
       "teamlead2-0                       5      Онлайн   \n",
       "\n",
       "                                                                    audience  \\\n",
       "slug                                                                           \n",
       "microservice-architecture                                                NaN   \n",
       "java-professional                                                        NaN   \n",
       "teamlead2-0                 Для начинающих тимлидов. Избавьтесь от «синдр...   \n",
       "\n",
       "                                                                    benefits  \\\n",
       "slug                                                                           \n",
       "microservice-architecture  После обучения выпускники на профессиональном ...   \n",
       "java-professional          Знание актуального стека технологий, 96 часов ...   \n",
       "teamlead2-0                Курс «Team Lead» поможет начинающим руководите...   \n",
       "\n",
       "                                                                        plan  \\\n",
       "slug                                                                           \n",
       "microservice-architecture  Базовые паттерны микросервисных архитектур В э...   \n",
       "java-professional          Язык и платформа Java В этом модуле изучаются ...   \n",
       "teamlead2-0                Общие знания Обсуждение организационных вопрос...   \n",
       "\n",
       "                           priceFull  priceDisc  pending  \n",
       "slug                                                      \n",
       "microservice-architecture     162000     145800        0  \n",
       "java-professional             159000     143100        0  \n",
       "teamlead2-0                   153000     137700        0  "
      ]
     },
     "execution_count": 60,
     "metadata": {},
     "output_type": "execute_result"
    }
   ],
   "source": [
    "# топ-3 самых дорогих курсов\n",
    "df_sale.sort_values(by='priceFull', ascending=False)[0:3]"
   ]
  },
  {
   "cell_type": "markdown",
   "id": "c93c83ac-fe12-455a-90f3-ee9219a38c95",
   "metadata": {},
   "source": [
    "Если смотреть без учета скидок.\n",
    "\n",
    "Самый дорогий курс [Microservice Architecture](https://otus.ru/lessons/microservice-architecture) - 162 000 руб.\n",
    "\n",
    "Самый дешевый курс [SQL для разработчиков и аналитиков](https://otus.ru/lessons/-sql) - 50 000 руб.\n"
   ]
  },
  {
   "cell_type": "markdown",
   "id": "e96dde84-0edc-48a2-920b-6368d7ec5559",
   "metadata": {},
   "source": [
    "## Скидки"
   ]
  },
  {
   "cell_type": "code",
   "execution_count": 69,
   "id": "c3384686-407e-45fd-9ffb-47c681dabca1",
   "metadata": {},
   "outputs": [],
   "source": [
    "df_discount = df_sale[df_sale['priceDisc'] != 0]"
   ]
  },
  {
   "cell_type": "code",
   "execution_count": 65,
   "id": "e0ea6d7b-464e-464b-9eb9-2014f46556a6",
   "metadata": {},
   "outputs": [
    {
     "name": "stdout",
     "output_type": "stream",
     "text": [
      "Активных платных курсов всего: 134. Со скидками: 84\n"
     ]
    }
   ],
   "source": [
    "print(f'Активных платных курсов всего: {df_sale.shape[0]}. Со скидками: {df_discount.shape[0]}')"
   ]
  },
  {
   "cell_type": "code",
   "execution_count": 71,
   "id": "e789e239-b8be-468a-9a5f-a5a54c8918cb",
   "metadata": {},
   "outputs": [],
   "source": [
    "# расчитаем % скидки для курсов со скидкой\n",
    "df_discount.loc[:, 'percent'] = df_discount.apply(lambda row: (row['priceFull']-row['priceDisc'])/row['priceFull'], axis=1)"
   ]
  },
  {
   "cell_type": "code",
   "execution_count": 76,
   "id": "604b537e-333d-43d6-a0b2-14c503d65a73",
   "metadata": {},
   "outputs": [
    {
     "data": {
      "text/plain": [
       "percent\n",
       "0.100000    82\n",
       "0.097183     1\n",
       "0.111765     1\n",
       "Name: count, dtype: int64"
      ]
     },
     "execution_count": 76,
     "metadata": {},
     "output_type": "execute_result"
    }
   ],
   "source": [
    "df_discount['percent'].value_counts()"
   ]
  },
  {
   "cell_type": "markdown",
   "id": "8fa4fcfc-2fcf-4164-8893-af087b051121",
   "metadata": {},
   "source": [
    "Скидка всегда 10%, на сайте показывается в рублях.\n",
    "\n",
    "Так что на распределение и топы принципиально не влияет."
   ]
  },
  {
   "cell_type": "markdown",
   "id": "88011d8a-9234-401b-b4ed-b29564046554",
   "metadata": {},
   "source": [
    "## Соотношение стоимости и длительности"
   ]
  },
  {
   "cell_type": "code",
   "execution_count": 80,
   "id": "8a142221-bd42-4522-8d2e-f48e83cd4670",
   "metadata": {},
   "outputs": [
    {
     "data": {
      "text/plain": [
       "<seaborn.axisgrid.FacetGrid at 0x75a07e38e720>"
      ]
     },
     "execution_count": 80,
     "metadata": {},
     "output_type": "execute_result"
    },
    {
     "data": {
      "image/png": "[encoded data removed]",
      "text/plain": [
       "<Figure size 500x500 with 1 Axes>"
      ]
     },
     "metadata": {},
     "output_type": "display_data"
    }
   ],
   "source": [
    "sns.relplot(df_sale, x='duration', y='priceFull')"
   ]
  },
  {
   "cell_type": "markdown",
   "id": "7b6030e3-eaff-485b-a3c5-1c9a266e81d2",
   "metadata": {},
   "source": [
    "Зависимости цены от длительности не наблюдается. "
   ]
  },
  {
   "cell_type": "markdown",
   "id": "53cce2fd-50aa-48fd-9808-79d25efdad55",
   "metadata": {},
   "source": [
    "## Офлайн?"
   ]
  },
  {
   "cell_type": "code",
   "execution_count": 84,
   "id": "e188f0fa-f45d-4416-be4a-bc4e38120493",
   "metadata": {},
   "outputs": [
    {
     "data": {
      "text/plain": [
       "0"
      ]
     },
     "execution_count": 84,
     "metadata": {},
     "output_type": "execute_result"
    }
   ],
   "source": [
    "df_sale[df_sale['presentType'] != 'Онлайн'].shape[0]"
   ]
  },
  {
   "cell_type": "markdown",
   "id": "d9bd2e99-0143-4b2e-9b74-6b674eb55911",
   "metadata": {},
   "source": [
    "## Заключение\n",
    "\n",
    "На момент анализа данных появились новые курсы, которые выбиваются из имеющихся данных, например курс [Administrator Linux](https://otus.ru/lessons/linux-specialization/), который длится 12 месяцев и стоит 207 900 ₽ (231 000 ₽)\n",
    "\n",
    "Через какое-то время стоит повторить анализ для сравнения динамики.\n",
    "\n",
    "Текстовые данные можно использовать для поиска похожих курсов на пересечении навыков и требований и программ. Возможно будет попробовать для fine-tune языковой модели."
   ]
  }
 ],
 "metadata": {
  "kernelspec": {
   "display_name": "Python 3 (ipykernel)",
   "language": "python",
   "name": "python3"
  },
  "language_info": {
   "codemirror_mode": {
    "name": "ipython",
    "version": 3
   },
   "file_extension": ".py",
   "mimetype": "text/x-python",
   "name": "python",
   "nbconvert_exporter": "python",
   "pygments_lexer": "ipython3",
   "version": "3.12.3"
  }
 },
 "nbformat": 4,
 "nbformat_minor": 5
}
